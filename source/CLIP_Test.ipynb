{
 "cells": [
  {
   "cell_type": "code",
   "execution_count": null,
   "id": "f0d62144-6dd4-44af-b310-626a4d9dca82",
   "metadata": {},
   "outputs": [],
   "source": [
    "from PIL import Image\n",
    "import requests\n",
    "from transformers import AutoProcessor, CLIPModel\n",
    "import numpy as np\n",
    "import torch\n",
    "import rp\n",
    "from transformers import CLIPProcessor, CLIPModel\n",
    "from clip import get_clip_logits\n",
    "\n",
    "url = \"http://images.cocodataset.org/val2017/000000039769.jpg\"\n",
    "url = \"https://i.pinimg.com/564x/87/a1/3e/87a13ebe6b5e4f100b84b0e68bc994d5--pokemon-cakes-pokemon-go.jpg\"\n",
    "image=rp.as_float_image(rp.as_rgb_image(rp.load_image(url)))\n",
    "# image=rp.as_torch_image(image)\n",
    "# image=image.to('cuda:2')\n",
    "\n",
    "logits_per_image = get_clip_logits(image,[\"a photo of a squirtle\",\"a photo of a pokemon\",\"a photo of a pikachu\",\"\"])\n",
    "probs = logits_per_image.softmax(dim=0)  # we can take the softmax to get the label probabilities\n",
    "print(logits_per_image,probs)\n",
    "\n",
    "rp.display_image(rp.load_image(url))"
   ]
  },
  {
   "cell_type": "code",
   "execution_count": null,
   "id": "4aff88a6-0844-4e88-af9b-fa08ec16be3e",
   "metadata": {},
   "outputs": [],
   "source": [
    "rp.pterm()"
   ]
  },
  {
   "cell_type": "code",
   "execution_count": null,
   "id": "efcb26fc-e796-414c-a156-1cf75599b648",
   "metadata": {},
   "outputs": [],
   "source": [
    "import torch\n",
    "\n",
    "# Create a tensor on the CPU\n",
    "x = torch.randn(3, 3)\n",
    "print(\"Original tensor on device:\", x.device)\n",
    "\n",
    "# Move the tensor to the GPU\n",
    "x = x.to(\"cuda:3\")\n",
    "print(\"Tensor moved to GPU:\", x.device)\n"
   ]
  },
  {
   "cell_type": "code",
   "execution_count": null,
   "id": "765f3073-b1f8-46e0-8513-2566d085ef30",
   "metadata": {},
   "outputs": [],
   "source": [
    "\n",
    "image.to('cuda:2')"
   ]
  },
  {
   "cell_type": "code",
   "execution_count": null,
   "id": "c16d40a6-c9ee-4836-8033-80459373e189",
   "metadata": {},
   "outputs": [],
   "source": [
    "image.device"
   ]
  },
  {
   "cell_type": "code",
   "execution_count": null,
   "id": "eedaeb09-643a-4e60-8387-5cb938925319",
   "metadata": {},
   "outputs": [],
   "source": []
  }
 ],
 "metadata": {
  "kernelspec": {
   "display_name": "Python 3 (ipykernel)",
   "language": "python",
   "name": "python3"
  },
  "language_info": {
   "codemirror_mode": {
    "name": "ipython",
    "version": 3
   },
   "file_extension": ".py",
   "mimetype": "text/x-python",
   "name": "python",
   "nbconvert_exporter": "python",
   "pygments_lexer": "ipython3",
   "version": "3.8.10"
  }
 },
 "nbformat": 4,
 "nbformat_minor": 5
}
